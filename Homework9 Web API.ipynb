{
 "cells": [
  {
   "cell_type": "markdown",
   "metadata": {},
   "source": [
    "# Web APIs\n",
    "\n",
    "## 1. Consuming Web APIs\n",
    "\n",
    "(Partially adapted from https://www.dataquest.io/blog/python-api-tutorial/)\n",
    "\n",
    "* https://randomuser.me/ is a random user generator \n",
    "*\tIt has an API. Go to https://api.randomuser.me/ with your browser\n",
    "*\tYou get a JSON (JavaScript Object Notation) back. A JSON is similar to a Python dictionary.  \n",
    "*  Refresh the browser\n",
    "*\tYou can add query parameters. They are added to the URL with a ? . You then add then the parameter name = the value. More the one parameter are connected with a & e.g.\n",
    "\thttp://api.open-notify.org/iss-pass.json?lat=37.78&lon=-122.41\n",
    "\n",
    "*\t Go the documentation https://randomuser.me/documentation and check how you can get multiple users and to specify constraints on the output\n",
    "*\tGo to your browser and add parameters to https://api.randomuser.me/ so that you get 5 results of only males from the US\n",
    "\n",
    "Enter the URL of your solution:"
   ]
  },
  {
   "cell_type": "code",
   "execution_count": 6,
   "metadata": {
    "collapsed": true
   },
   "outputs": [],
   "source": [
    "# TODO: get 5 results of only males from the US\n",
    "# Enter the URL of your solution:\n",
    "url = 'https://api.randomuser.me/?gender=male&results=5&nat=us'"
   ]
  },
  {
   "cell_type": "markdown",
   "metadata": {},
   "source": [
    "* You can also get the data from the command line. Open the command line and write\n",
    "\n",
    "```bash\n",
    "curl -s https://api.randomuser.me/\n",
    "```\n",
    "\n",
    "You can also run Bash commands directly in your Jupyter Notebook with !:"
   ]
  },
  {
   "cell_type": "code",
   "execution_count": 7,
   "metadata": {
    "collapsed": true
   },
   "outputs": [
    {
     "name": "stdout",
     "output_type": "stream",
     "text": [
      "{\"results\":[{\"gender\":\"male\",\"name\":{\"title\":\"monsieur\",\"first\":\"gonÃ§alo\",\"last\":\"da silva\"},\"location\":{\"street\":\"5670 rue denfert-rochereau\",\"city\":\"valeyres-sous-montagny\",\"state\":\"zÃ¼rich\",\"postcode\":4459,\"coordinates\":{\"latitude\":\"-53.3193\",\"longitude\":\"-126.1739\"},\"timezone\":{\"offset\":\"-3:00\",\"description\":\"Brazil, Buenos Aires, Georgetown\"}},\"email\":\"gonÃ§alo.dasilva@example.com\",\"login\":{\"uuid\":\"5259aef6-4791-48ea-9097-02bf69ba0fa5\",\"username\":\"organicladybug152\",\"password\":\"25252525\",\"salt\":\"tCLgH4Pt\",\"md5\":\"3002ed67ffb1b5fbe5986ae937bb0d03\",\"sha1\":\"eff52bd24112fb782ff95ae7375e5d7bf410c12c\",\"sha256\":\"fd0982e3524b073a040ea4d65e250e530fcb15fd002b87e934364e921d2d8592\"},\"dob\":{\"date\":\"1951-07-08T18:04:00Z\",\"age\":67},\"registered\":{\"date\":\"2013-06-05T01:46:24Z\",\"age\":5},\"phone\":\"(576)-096-3509\",\"cell\":\"(506)-652-7861\",\"id\":{\"name\":\"AVS\",\"value\":\"756.7175.1174.03\"},\"picture\":{\"large\":\"https://randomuser.me/api/portraits/men/97.jpg\",\"medium\":\"https://randomuser.me/api/portraits/med/men/97.jpg\",\"thumbnail\":\"https://randomuser.me/api/portraits/thumb/men/97.jpg\"},\"nat\":\"CH\"}],\"info\":{\"seed\":\"ed9a455de46e90d2\",\"results\":1,\"page\":1,\"version\":\"1.2\"}}\n"
     ]
    }
   ],
   "source": [
    "!curl -s https://api.randomuser.me/"
   ]
  },
  {
   "cell_type": "markdown",
   "metadata": {},
   "source": [
    "* Import the two libraries \n",
    "    * `requests` and \n",
    "    * `json`. \n",
    "\n",
    "You can find the documentation for the requests package here:\n",
    " http://www.python-requests.org/en/latest/ \n",
    " "
   ]
  },
  {
   "cell_type": "code",
   "execution_count": 8,
   "metadata": {
    "collapsed": true
   },
   "outputs": [],
   "source": [
    "# TODO\n",
    "import requests\n",
    "import json"
   ]
  },
  {
   "cell_type": "markdown",
   "metadata": {},
   "source": [
    "* With the requests package you can call a Web API with the URL and the method get"
   ]
  },
  {
   "cell_type": "code",
   "execution_count": 9,
   "metadata": {
    "collapsed": true
   },
   "outputs": [],
   "source": [
    "response = requests.get(\"https://api.randomuser.me/\")"
   ]
  },
  {
   "cell_type": "markdown",
   "metadata": {},
   "source": [
    "* Print the status code of the request"
   ]
  },
  {
   "cell_type": "code",
   "execution_count": 10,
   "metadata": {
    "collapsed": true
   },
   "outputs": [
    {
     "name": "stdout",
     "output_type": "stream",
     "text": [
      "200\n"
     ]
    }
   ],
   "source": [
    "print(response.status_code)"
   ]
  },
  {
   "cell_type": "markdown",
   "metadata": {},
   "source": [
    "**The meaning of the status codes are:**\n",
    "* 200: everything went okay, and the result has been returned (if any)\n",
    "* 301: the server is redirecting you to a different endpoint. This can happen when a company switches domain names, or an endpoint name is changed.\n",
    "* 401: the server thinks you're not authenticated. This happens when you don't send the right credentials to access an API.\n",
    "* 400: the server thinks you made a bad request. This can happen when you don't send along the right data, among other things.\n",
    "* 403: the resource you're trying to access is forbidden – you don't have the right permissions to see it.\n",
    "* 404: the resource you tried to access wasn't found on the server.\n"
   ]
  },
  {
   "cell_type": "markdown",
   "metadata": {},
   "source": [
    "You can specify the query parameters for a URL with a Python dictionary like this:\n",
    "```python\n",
    "parameters = {\"lat\": 37.78, \"lon\": -122.41}\n",
    "```\n",
    "\n",
    "And pass the parameter to the request like this\n",
    "```python\n",
    "response = requests.get(\"http://api.open-notify.org/iss-pass.json\", params=parameters)\n",
    "```\n",
    "This is the same as \n",
    "```python\n",
    "response = requests.get(\"http://api.open-notify.org/iss-pass.json?lat=37.78&lon=-122.41\")\n",
    "```\n",
    "\n",
    "Alternatively you could build also the URL with the parameters by yourself with string concatenation. \n",
    "\n",
    "* Get with the request method 10 results of only males from the US.\n",
    "\n"
   ]
  },
  {
   "cell_type": "code",
   "execution_count": 11,
   "metadata": {
    "collapsed": true
   },
   "outputs": [],
   "source": [
    "# TODO: Get with the request method 10 results of only males from the US.\n",
    "parameters = {'gender': 'male', 'nat': 'us', 'results': '5'}\n",
    "response = requests.get(\"https://api.randomuser.me/\", params=parameters)"
   ]
  },
  {
   "cell_type": "code",
   "execution_count": 12,
   "metadata": {},
   "outputs": [
    {
     "name": "stdout",
     "output_type": "stream",
     "text": [
      "200\n"
     ]
    }
   ],
   "source": [
    "print(response.status_code)"
   ]
  },
  {
   "cell_type": "markdown",
   "metadata": {},
   "source": [
    "* You can show the result of the request with the method text"
   ]
  },
  {
   "cell_type": "code",
   "execution_count": 13,
   "metadata": {
    "collapsed": true,
    "scrolled": true
   },
   "outputs": [
    {
     "data": {
      "text/plain": [
       "'{\"results\":[{\"gender\":\"male\",\"name\":{\"title\":\"mr\",\"first\":\"liam\",\"last\":\"hart\"},\"location\":{\"street\":\"8377 white oak dr\",\"city\":\"anchorage\",\"state\":\"maine\",\"postcode\":44211,\"coordinates\":{\"latitude\":\"79.6333\",\"longitude\":\"47.1203\"},\"timezone\":{\"offset\":\"-12:00\",\"description\":\"Eniwetok, Kwajalein\"}},\"email\":\"liam.hart@example.com\",\"login\":{\"uuid\":\"50df056c-a7b6-497f-9e84-4eaccae5529c\",\"username\":\"tinylion331\",\"password\":\"masturbation\",\"salt\":\"UNCSzLB0\",\"md5\":\"9aacdc0d2b3fe1660f52ae66b557174b\",\"sha1\":\"1cd6fb0dc9216e9b38d3a661dec047cd5713dfa4\",\"sha256\":\"6d13b703cfa75b9d4d4c36cc419669ae1d8c361654045919e245b5c4b565bd7f\"},\"dob\":{\"date\":\"1958-11-20T11:11:13Z\",\"age\":60},\"registered\":{\"date\":\"2017-04-01T07:08:00Z\",\"age\":2},\"phone\":\"(776)-933-1586\",\"cell\":\"(469)-201-6651\",\"id\":{\"name\":\"SSN\",\"value\":\"612-72-8062\"},\"picture\":{\"large\":\"https://randomuser.me/api/portraits/men/65.jpg\",\"medium\":\"https://randomuser.me/api/portraits/med/men/65.jpg\",\"thumbnail\":\"https://randomuser.me/api/portraits/thumb/men/65.jpg\"},\"nat\":\"US\"},{\"gender\":\"male\",\"name\":{\"title\":\"mr\",\"first\":\"darrell\",\"last\":\"reyes\"},\"location\":{\"street\":\"2445 spring st\",\"city\":\"orlando\",\"state\":\"mississippi\",\"postcode\":76853,\"coordinates\":{\"latitude\":\"25.1628\",\"longitude\":\"-24.3302\"},\"timezone\":{\"offset\":\"-3:30\",\"description\":\"Newfoundland\"}},\"email\":\"darrell.reyes@example.com\",\"login\":{\"uuid\":\"af4029a8-1a24-4c4d-9a32-3b43ca7ba5a6\",\"username\":\"greenelephant219\",\"password\":\"tasha1\",\"salt\":\"OvOz1duI\",\"md5\":\"1b917546ffe8318dda5cb36e71b24726\",\"sha1\":\"b4db2edba1d6f910c7c45a977dde6d0fb21fbdb2\",\"sha256\":\"05243a43a266986b7661f51921f288a2b5d3d4566598bb7251d467cf08e2024b\"},\"dob\":{\"date\":\"1961-10-11T17:34:42Z\",\"age\":57},\"registered\":{\"date\":\"2005-02-07T11:04:23Z\",\"age\":14},\"phone\":\"(382)-683-2096\",\"cell\":\"(597)-702-0929\",\"id\":{\"name\":\"SSN\",\"value\":\"834-15-0664\"},\"picture\":{\"large\":\"https://randomuser.me/api/portraits/men/35.jpg\",\"medium\":\"https://randomuser.me/api/portraits/med/men/35.jpg\",\"thumbnail\":\"https://randomuser.me/api/portraits/thumb/men/35.jpg\"},\"nat\":\"US\"},{\"gender\":\"male\",\"name\":{\"title\":\"mr\",\"first\":\"jayden\",\"last\":\"little\"},\"location\":{\"street\":\"2593 hillcrest rd\",\"city\":\"fountain valley\",\"state\":\"maryland\",\"postcode\":70593,\"coordinates\":{\"latitude\":\"62.6852\",\"longitude\":\"-162.5476\"},\"timezone\":{\"offset\":\"-11:00\",\"description\":\"Midway Island, Samoa\"}},\"email\":\"jayden.little@example.com\",\"login\":{\"uuid\":\"58e53252-55d3-49d5-b0fb-9fbc031e4fd5\",\"username\":\"organicpeacock229\",\"password\":\"checkers\",\"salt\":\"h2XsUfcx\",\"md5\":\"f7503ea4508410aacd24d66f831c847b\",\"sha1\":\"3def37a270b442d8d2ac4f929b62bca52c4dffcb\",\"sha256\":\"b90039a4e80582e6b4c32e9b293414858e33ed52a89fc448ca8a1e644f8f1a0e\"},\"dob\":{\"date\":\"1947-07-09T12:04:31Z\",\"age\":71},\"registered\":{\"date\":\"2007-09-04T04:09:43Z\",\"age\":11},\"phone\":\"(915)-860-7476\",\"cell\":\"(206)-868-1576\",\"id\":{\"name\":\"SSN\",\"value\":\"856-26-6296\"},\"picture\":{\"large\":\"https://randomuser.me/api/portraits/men/23.jpg\",\"medium\":\"https://randomuser.me/api/portraits/med/men/23.jpg\",\"thumbnail\":\"https://randomuser.me/api/portraits/thumb/men/23.jpg\"},\"nat\":\"US\"},{\"gender\":\"male\",\"name\":{\"title\":\"mr\",\"first\":\"francis\",\"last\":\"arnold\"},\"location\":{\"street\":\"9231 wheeler ridge dr\",\"city\":\"albuquerque\",\"state\":\"kentucky\",\"postcode\":54455,\"coordinates\":{\"latitude\":\"-6.9948\",\"longitude\":\"-121.2933\"},\"timezone\":{\"offset\":\"+7:00\",\"description\":\"Bangkok, Hanoi, Jakarta\"}},\"email\":\"francis.arnold@example.com\",\"login\":{\"uuid\":\"91997c78-1455-46a1-9c4c-10639b2053e2\",\"username\":\"bigdog166\",\"password\":\"hardone\",\"salt\":\"j03pKdpP\",\"md5\":\"8ee4c43c8fe4a03e4b271b6d2fc9697c\",\"sha1\":\"878bab2defd23a4b5c1db5e2b35d979a71b353b6\",\"sha256\":\"297aa92bffc8428151ee628727d2bb045fd215ba418fd670acb941f0749e00bd\"},\"dob\":{\"date\":\"1962-07-15T09:38:05Z\",\"age\":56},\"registered\":{\"date\":\"2008-10-17T04:04:44Z\",\"age\":10},\"phone\":\"(992)-309-9641\",\"cell\":\"(959)-519-9467\",\"id\":{\"name\":\"SSN\",\"value\":\"799-70-2106\"},\"picture\":{\"large\":\"https://randomuser.me/api/portraits/men/78.jpg\",\"medium\":\"https://randomuser.me/api/portraits/med/men/78.jpg\",\"thumbnail\":\"https://randomuser.me/api/portraits/thumb/men/78.jpg\"},\"nat\":\"US\"},{\"gender\":\"male\",\"name\":{\"title\":\"mr\",\"first\":\"flenn\",\"last\":\"fowler\"},\"location\":{\"street\":\"5641 washington ave\",\"city\":\"fullerton\",\"state\":\"idaho\",\"postcode\":33841,\"coordinates\":{\"latitude\":\"8.7301\",\"longitude\":\"112.5909\"},\"timezone\":{\"offset\":\"-8:00\",\"description\":\"Pacific Time (US & Canada)\"}},\"email\":\"flenn.fowler@example.com\",\"login\":{\"uuid\":\"90b6ba40-ad9c-429b-ad8a-39a3f9150def\",\"username\":\"lazysnake135\",\"password\":\"feng\",\"salt\":\"V7gkWQ3J\",\"md5\":\"7face80551da0e70e421990501bf0932\",\"sha1\":\"c7fad5f941e9f4525f20a7a30e6f16cd0decef2f\",\"sha256\":\"778e1463c0f7124cacf2cf22b75cd78b461c0c92b4b0b7c8840390c59d8608ca\"},\"dob\":{\"date\":\"1987-10-13T02:57:36Z\",\"age\":31},\"registered\":{\"date\":\"2017-06-09T09:26:51Z\",\"age\":1},\"phone\":\"(729)-410-9003\",\"cell\":\"(839)-946-9657\",\"id\":{\"name\":\"SSN\",\"value\":\"383-19-2368\"},\"picture\":{\"large\":\"https://randomuser.me/api/portraits/men/17.jpg\",\"medium\":\"https://randomuser.me/api/portraits/med/men/17.jpg\",\"thumbnail\":\"https://randomuser.me/api/portraits/thumb/men/17.jpg\"},\"nat\":\"US\"}],\"info\":{\"seed\":\"3e85146404cc3962\",\"results\":5,\"page\":1,\"version\":\"1.2\"}}'"
      ]
     },
     "execution_count": 13,
     "metadata": {},
     "output_type": "execute_result"
    }
   ],
   "source": [
    "response.text"
   ]
  },
  {
   "cell_type": "markdown",
   "metadata": {},
   "source": [
    "* You can convert the data from JSON to a Python dictionary with the package JSON"
   ]
  },
  {
   "cell_type": "code",
   "execution_count": 14,
   "metadata": {
    "collapsed": true
   },
   "outputs": [],
   "source": [
    "data = json.loads(response.text)"
   ]
  },
  {
   "cell_type": "markdown",
   "metadata": {},
   "source": [
    "* Check the type of variable data"
   ]
  },
  {
   "cell_type": "code",
   "execution_count": 15,
   "metadata": {
    "collapsed": true
   },
   "outputs": [
    {
     "data": {
      "text/plain": [
       "dict"
      ]
     },
     "execution_count": 15,
     "metadata": {},
     "output_type": "execute_result"
    }
   ],
   "source": [
    "# TODO\n",
    "type(data)"
   ]
  },
  {
   "cell_type": "code",
   "execution_count": 16,
   "metadata": {
    "collapsed": true
   },
   "outputs": [
    {
     "name": "stdout",
     "output_type": "stream",
     "text": [
      "{'results': [{'gender': 'male', 'name': {'title': 'mr', 'first': 'liam', 'last': 'hart'}, 'location': {'street': '8377 white oak dr', 'city': 'anchorage', 'state': 'maine', 'postcode': 44211, 'coordinates': {'latitude': '79.6333', 'longitude': '47.1203'}, 'timezone': {'offset': '-12:00', 'description': 'Eniwetok, Kwajalein'}}, 'email': 'liam.hart@example.com', 'login': {'uuid': '50df056c-a7b6-497f-9e84-4eaccae5529c', 'username': 'tinylion331', 'password': 'masturbation', 'salt': 'UNCSzLB0', 'md5': '9aacdc0d2b3fe1660f52ae66b557174b', 'sha1': '1cd6fb0dc9216e9b38d3a661dec047cd5713dfa4', 'sha256': '6d13b703cfa75b9d4d4c36cc419669ae1d8c361654045919e245b5c4b565bd7f'}, 'dob': {'date': '1958-11-20T11:11:13Z', 'age': 60}, 'registered': {'date': '2017-04-01T07:08:00Z', 'age': 2}, 'phone': '(776)-933-1586', 'cell': '(469)-201-6651', 'id': {'name': 'SSN', 'value': '612-72-8062'}, 'picture': {'large': 'https://randomuser.me/api/portraits/men/65.jpg', 'medium': 'https://randomuser.me/api/portraits/med/men/65.jpg', 'thumbnail': 'https://randomuser.me/api/portraits/thumb/men/65.jpg'}, 'nat': 'US'}, {'gender': 'male', 'name': {'title': 'mr', 'first': 'darrell', 'last': 'reyes'}, 'location': {'street': '2445 spring st', 'city': 'orlando', 'state': 'mississippi', 'postcode': 76853, 'coordinates': {'latitude': '25.1628', 'longitude': '-24.3302'}, 'timezone': {'offset': '-3:30', 'description': 'Newfoundland'}}, 'email': 'darrell.reyes@example.com', 'login': {'uuid': 'af4029a8-1a24-4c4d-9a32-3b43ca7ba5a6', 'username': 'greenelephant219', 'password': 'tasha1', 'salt': 'OvOz1duI', 'md5': '1b917546ffe8318dda5cb36e71b24726', 'sha1': 'b4db2edba1d6f910c7c45a977dde6d0fb21fbdb2', 'sha256': '05243a43a266986b7661f51921f288a2b5d3d4566598bb7251d467cf08e2024b'}, 'dob': {'date': '1961-10-11T17:34:42Z', 'age': 57}, 'registered': {'date': '2005-02-07T11:04:23Z', 'age': 14}, 'phone': '(382)-683-2096', 'cell': '(597)-702-0929', 'id': {'name': 'SSN', 'value': '834-15-0664'}, 'picture': {'large': 'https://randomuser.me/api/portraits/men/35.jpg', 'medium': 'https://randomuser.me/api/portraits/med/men/35.jpg', 'thumbnail': 'https://randomuser.me/api/portraits/thumb/men/35.jpg'}, 'nat': 'US'}, {'gender': 'male', 'name': {'title': 'mr', 'first': 'jayden', 'last': 'little'}, 'location': {'street': '2593 hillcrest rd', 'city': 'fountain valley', 'state': 'maryland', 'postcode': 70593, 'coordinates': {'latitude': '62.6852', 'longitude': '-162.5476'}, 'timezone': {'offset': '-11:00', 'description': 'Midway Island, Samoa'}}, 'email': 'jayden.little@example.com', 'login': {'uuid': '58e53252-55d3-49d5-b0fb-9fbc031e4fd5', 'username': 'organicpeacock229', 'password': 'checkers', 'salt': 'h2XsUfcx', 'md5': 'f7503ea4508410aacd24d66f831c847b', 'sha1': '3def37a270b442d8d2ac4f929b62bca52c4dffcb', 'sha256': 'b90039a4e80582e6b4c32e9b293414858e33ed52a89fc448ca8a1e644f8f1a0e'}, 'dob': {'date': '1947-07-09T12:04:31Z', 'age': 71}, 'registered': {'date': '2007-09-04T04:09:43Z', 'age': 11}, 'phone': '(915)-860-7476', 'cell': '(206)-868-1576', 'id': {'name': 'SSN', 'value': '856-26-6296'}, 'picture': {'large': 'https://randomuser.me/api/portraits/men/23.jpg', 'medium': 'https://randomuser.me/api/portraits/med/men/23.jpg', 'thumbnail': 'https://randomuser.me/api/portraits/thumb/men/23.jpg'}, 'nat': 'US'}, {'gender': 'male', 'name': {'title': 'mr', 'first': 'francis', 'last': 'arnold'}, 'location': {'street': '9231 wheeler ridge dr', 'city': 'albuquerque', 'state': 'kentucky', 'postcode': 54455, 'coordinates': {'latitude': '-6.9948', 'longitude': '-121.2933'}, 'timezone': {'offset': '+7:00', 'description': 'Bangkok, Hanoi, Jakarta'}}, 'email': 'francis.arnold@example.com', 'login': {'uuid': '91997c78-1455-46a1-9c4c-10639b2053e2', 'username': 'bigdog166', 'password': 'hardone', 'salt': 'j03pKdpP', 'md5': '8ee4c43c8fe4a03e4b271b6d2fc9697c', 'sha1': '878bab2defd23a4b5c1db5e2b35d979a71b353b6', 'sha256': '297aa92bffc8428151ee628727d2bb045fd215ba418fd670acb941f0749e00bd'}, 'dob': {'date': '1962-07-15T09:38:05Z', 'age': 56}, 'registered': {'date': '2008-10-17T04:04:44Z', 'age': 10}, 'phone': '(992)-309-9641', 'cell': '(959)-519-9467', 'id': {'name': 'SSN', 'value': '799-70-2106'}, 'picture': {'large': 'https://randomuser.me/api/portraits/men/78.jpg', 'medium': 'https://randomuser.me/api/portraits/med/men/78.jpg', 'thumbnail': 'https://randomuser.me/api/portraits/thumb/men/78.jpg'}, 'nat': 'US'}, {'gender': 'male', 'name': {'title': 'mr', 'first': 'flenn', 'last': 'fowler'}, 'location': {'street': '5641 washington ave', 'city': 'fullerton', 'state': 'idaho', 'postcode': 33841, 'coordinates': {'latitude': '8.7301', 'longitude': '112.5909'}, 'timezone': {'offset': '-8:00', 'description': 'Pacific Time (US & Canada)'}}, 'email': 'flenn.fowler@example.com', 'login': {'uuid': '90b6ba40-ad9c-429b-ad8a-39a3f9150def', 'username': 'lazysnake135', 'password': 'feng', 'salt': 'V7gkWQ3J', 'md5': '7face80551da0e70e421990501bf0932', 'sha1': 'c7fad5f941e9f4525f20a7a30e6f16cd0decef2f', 'sha256': '778e1463c0f7124cacf2cf22b75cd78b461c0c92b4b0b7c8840390c59d8608ca'}, 'dob': {'date': '1987-10-13T02:57:36Z', 'age': 31}, 'registered': {'date': '2017-06-09T09:26:51Z', 'age': 1}, 'phone': '(729)-410-9003', 'cell': '(839)-946-9657', 'id': {'name': 'SSN', 'value': '383-19-2368'}, 'picture': {'large': 'https://randomuser.me/api/portraits/men/17.jpg', 'medium': 'https://randomuser.me/api/portraits/med/men/17.jpg', 'thumbnail': 'https://randomuser.me/api/portraits/thumb/men/17.jpg'}, 'nat': 'US'}], 'info': {'seed': '3e85146404cc3962', 'results': 5, 'page': 1, 'version': '1.2'}}\n"
     ]
    }
   ],
   "source": [
    "print(data)"
   ]
  },
  {
   "cell_type": "markdown",
   "metadata": {},
   "source": [
    "* *pretty-print* (pprint) prints complex data structures like dictionary prettier.  https://docs.python.org/3/library/pprint.html "
   ]
  },
  {
   "cell_type": "code",
   "execution_count": 17,
   "metadata": {
    "collapsed": true
   },
   "outputs": [
    {
     "name": "stdout",
     "output_type": "stream",
     "text": [
      "{'info': {'page': 1,\n",
      "          'results': 5,\n",
      "          'seed': '3e85146404cc3962',\n",
      "          'version': '1.2'},\n",
      " 'results': [{'cell': '(469)-201-6651',\n",
      "              'dob': {'age': 60, 'date': '1958-11-20T11:11:13Z'},\n",
      "              'email': 'liam.hart@example.com',\n",
      "              'gender': 'male',\n",
      "              'id': {'name': 'SSN', 'value': '612-72-8062'},\n",
      "              'location': {'city': 'anchorage',\n",
      "                           'coordinates': {'latitude': '79.6333',\n",
      "                                           'longitude': '47.1203'},\n",
      "                           'postcode': 44211,\n",
      "                           'state': 'maine',\n",
      "                           'street': '8377 white oak dr',\n",
      "                           'timezone': {'description': 'Eniwetok, Kwajalein',\n",
      "                                        'offset': '-12:00'}},\n",
      "              'login': {'md5': '9aacdc0d2b3fe1660f52ae66b557174b',\n",
      "                        'password': 'masturbation',\n",
      "                        'salt': 'UNCSzLB0',\n",
      "                        'sha1': '1cd6fb0dc9216e9b38d3a661dec047cd5713dfa4',\n",
      "                        'sha256': '6d13b703cfa75b9d4d4c36cc419669ae1d8c361654045919e245b5c4b565bd7f',\n",
      "                        'username': 'tinylion331',\n",
      "                        'uuid': '50df056c-a7b6-497f-9e84-4eaccae5529c'},\n",
      "              'name': {'first': 'liam', 'last': 'hart', 'title': 'mr'},\n",
      "              'nat': 'US',\n",
      "              'phone': '(776)-933-1586',\n",
      "              'picture': {'large': 'https://randomuser.me/api/portraits/men/65.jpg',\n",
      "                          'medium': 'https://randomuser.me/api/portraits/med/men/65.jpg',\n",
      "                          'thumbnail': 'https://randomuser.me/api/portraits/thumb/men/65.jpg'},\n",
      "              'registered': {'age': 2, 'date': '2017-04-01T07:08:00Z'}},\n",
      "             {'cell': '(597)-702-0929',\n",
      "              'dob': {'age': 57, 'date': '1961-10-11T17:34:42Z'},\n",
      "              'email': 'darrell.reyes@example.com',\n",
      "              'gender': 'male',\n",
      "              'id': {'name': 'SSN', 'value': '834-15-0664'},\n",
      "              'location': {'city': 'orlando',\n",
      "                           'coordinates': {'latitude': '25.1628',\n",
      "                                           'longitude': '-24.3302'},\n",
      "                           'postcode': 76853,\n",
      "                           'state': 'mississippi',\n",
      "                           'street': '2445 spring st',\n",
      "                           'timezone': {'description': 'Newfoundland',\n",
      "                                        'offset': '-3:30'}},\n",
      "              'login': {'md5': '1b917546ffe8318dda5cb36e71b24726',\n",
      "                        'password': 'tasha1',\n",
      "                        'salt': 'OvOz1duI',\n",
      "                        'sha1': 'b4db2edba1d6f910c7c45a977dde6d0fb21fbdb2',\n",
      "                        'sha256': '05243a43a266986b7661f51921f288a2b5d3d4566598bb7251d467cf08e2024b',\n",
      "                        'username': 'greenelephant219',\n",
      "                        'uuid': 'af4029a8-1a24-4c4d-9a32-3b43ca7ba5a6'},\n",
      "              'name': {'first': 'darrell', 'last': 'reyes', 'title': 'mr'},\n",
      "              'nat': 'US',\n",
      "              'phone': '(382)-683-2096',\n",
      "              'picture': {'large': 'https://randomuser.me/api/portraits/men/35.jpg',\n",
      "                          'medium': 'https://randomuser.me/api/portraits/med/men/35.jpg',\n",
      "                          'thumbnail': 'https://randomuser.me/api/portraits/thumb/men/35.jpg'},\n",
      "              'registered': {'age': 14, 'date': '2005-02-07T11:04:23Z'}},\n",
      "             {'cell': '(206)-868-1576',\n",
      "              'dob': {'age': 71, 'date': '1947-07-09T12:04:31Z'},\n",
      "              'email': 'jayden.little@example.com',\n",
      "              'gender': 'male',\n",
      "              'id': {'name': 'SSN', 'value': '856-26-6296'},\n",
      "              'location': {'city': 'fountain valley',\n",
      "                           'coordinates': {'latitude': '62.6852',\n",
      "                                           'longitude': '-162.5476'},\n",
      "                           'postcode': 70593,\n",
      "                           'state': 'maryland',\n",
      "                           'street': '2593 hillcrest rd',\n",
      "                           'timezone': {'description': 'Midway Island, Samoa',\n",
      "                                        'offset': '-11:00'}},\n",
      "              'login': {'md5': 'f7503ea4508410aacd24d66f831c847b',\n",
      "                        'password': 'checkers',\n",
      "                        'salt': 'h2XsUfcx',\n",
      "                        'sha1': '3def37a270b442d8d2ac4f929b62bca52c4dffcb',\n",
      "                        'sha256': 'b90039a4e80582e6b4c32e9b293414858e33ed52a89fc448ca8a1e644f8f1a0e',\n",
      "                        'username': 'organicpeacock229',\n",
      "                        'uuid': '58e53252-55d3-49d5-b0fb-9fbc031e4fd5'},\n",
      "              'name': {'first': 'jayden', 'last': 'little', 'title': 'mr'},\n",
      "              'nat': 'US',\n",
      "              'phone': '(915)-860-7476',\n",
      "              'picture': {'large': 'https://randomuser.me/api/portraits/men/23.jpg',\n",
      "                          'medium': 'https://randomuser.me/api/portraits/med/men/23.jpg',\n",
      "                          'thumbnail': 'https://randomuser.me/api/portraits/thumb/men/23.jpg'},\n",
      "              'registered': {'age': 11, 'date': '2007-09-04T04:09:43Z'}},\n",
      "             {'cell': '(959)-519-9467',\n",
      "              'dob': {'age': 56, 'date': '1962-07-15T09:38:05Z'},\n",
      "              'email': 'francis.arnold@example.com',\n",
      "              'gender': 'male',\n",
      "              'id': {'name': 'SSN', 'value': '799-70-2106'},\n",
      "              'location': {'city': 'albuquerque',\n",
      "                           'coordinates': {'latitude': '-6.9948',\n",
      "                                           'longitude': '-121.2933'},\n",
      "                           'postcode': 54455,\n",
      "                           'state': 'kentucky',\n",
      "                           'street': '9231 wheeler ridge dr',\n",
      "                           'timezone': {'description': 'Bangkok, Hanoi, '\n",
      "                                                       'Jakarta',\n",
      "                                        'offset': '+7:00'}},\n",
      "              'login': {'md5': '8ee4c43c8fe4a03e4b271b6d2fc9697c',\n",
      "                        'password': 'hardone',\n",
      "                        'salt': 'j03pKdpP',\n",
      "                        'sha1': '878bab2defd23a4b5c1db5e2b35d979a71b353b6',\n",
      "                        'sha256': '297aa92bffc8428151ee628727d2bb045fd215ba418fd670acb941f0749e00bd',\n",
      "                        'username': 'bigdog166',\n",
      "                        'uuid': '91997c78-1455-46a1-9c4c-10639b2053e2'},\n",
      "              'name': {'first': 'francis', 'last': 'arnold', 'title': 'mr'},\n",
      "              'nat': 'US',\n",
      "              'phone': '(992)-309-9641',\n",
      "              'picture': {'large': 'https://randomuser.me/api/portraits/men/78.jpg',\n",
      "                          'medium': 'https://randomuser.me/api/portraits/med/men/78.jpg',\n",
      "                          'thumbnail': 'https://randomuser.me/api/portraits/thumb/men/78.jpg'},\n",
      "              'registered': {'age': 10, 'date': '2008-10-17T04:04:44Z'}},\n",
      "             {'cell': '(839)-946-9657',\n",
      "              'dob': {'age': 31, 'date': '1987-10-13T02:57:36Z'},\n",
      "              'email': 'flenn.fowler@example.com',\n",
      "              'gender': 'male',\n",
      "              'id': {'name': 'SSN', 'value': '383-19-2368'},\n",
      "              'location': {'city': 'fullerton',\n",
      "                           'coordinates': {'latitude': '8.7301',\n",
      "                                           'longitude': '112.5909'},\n",
      "                           'postcode': 33841,\n",
      "                           'state': 'idaho',\n",
      "                           'street': '5641 washington ave',\n",
      "                           'timezone': {'description': 'Pacific Time (US & '\n",
      "                                                       'Canada)',\n",
      "                                        'offset': '-8:00'}},\n",
      "              'login': {'md5': '7face80551da0e70e421990501bf0932',\n",
      "                        'password': 'feng',\n",
      "                        'salt': 'V7gkWQ3J',\n",
      "                        'sha1': 'c7fad5f941e9f4525f20a7a30e6f16cd0decef2f',\n",
      "                        'sha256': '778e1463c0f7124cacf2cf22b75cd78b461c0c92b4b0b7c8840390c59d8608ca',\n",
      "                        'username': 'lazysnake135',\n",
      "                        'uuid': '90b6ba40-ad9c-429b-ad8a-39a3f9150def'},\n",
      "              'name': {'first': 'flenn', 'last': 'fowler', 'title': 'mr'},\n",
      "              'nat': 'US',\n",
      "              'phone': '(729)-410-9003',\n",
      "              'picture': {'large': 'https://randomuser.me/api/portraits/men/17.jpg',\n",
      "                          'medium': 'https://randomuser.me/api/portraits/med/men/17.jpg',\n",
      "                          'thumbnail': 'https://randomuser.me/api/portraits/thumb/men/17.jpg'},\n",
      "              'registered': {'age': 1, 'date': '2017-06-09T09:26:51Z'}}]}\n"
     ]
    }
   ],
   "source": [
    "from pprint import pprint\n",
    "pprint(data)"
   ]
  },
  {
   "cell_type": "markdown",
   "metadata": {},
   "source": [
    "* Loop through the dictionary and print all first names"
   ]
  },
  {
   "cell_type": "code",
   "execution_count": 18,
   "metadata": {
    "collapsed": true
   },
   "outputs": [
    {
     "name": "stdout",
     "output_type": "stream",
     "text": [
      "liam\n",
      "darrell\n",
      "jayden\n",
      "francis\n",
      "flenn\n"
     ]
    }
   ],
   "source": [
    "# TODO\n",
    "for k in data['results']:\n",
    "    print(k['name']['first'])"
   ]
  },
  {
   "cell_type": "markdown",
   "metadata": {},
   "source": [
    "* Get all astronauts who are right now in space. You get the information about the Web APU from here  http://open-notify.org/Open-Notify-API/People-In-Space/ "
   ]
  },
  {
   "cell_type": "code",
   "execution_count": 19,
   "metadata": {
    "collapsed": true
   },
   "outputs": [
    {
     "name": "stdout",
     "output_type": "stream",
     "text": [
      "{'message': 'success',\n",
      " 'number': 6,\n",
      " 'people': [{'craft': 'ISS', 'name': 'Oleg Kononenko'},\n",
      "            {'craft': 'ISS', 'name': 'David Saint-Jacques'},\n",
      "            {'craft': 'ISS', 'name': 'Anne McClain'},\n",
      "            {'craft': 'ISS', 'name': 'Alexey Ovchinin'},\n",
      "            {'craft': 'ISS', 'name': 'Nick Hague'},\n",
      "            {'craft': 'ISS', 'name': 'Christina Koch'}]}\n"
     ]
    }
   ],
   "source": [
    "# TODO\n",
    "response_astro = requests.get(\"http://api.open-notify.org/astros.json\")\n",
    "data_astro = json.loads(response_astro.text)\n",
    "pprint(data_astro)"
   ]
  },
  {
   "cell_type": "markdown",
   "metadata": {},
   "source": [
    "* Print the number of people that are right now in space"
   ]
  },
  {
   "cell_type": "code",
   "execution_count": 20,
   "metadata": {
    "collapsed": true
   },
   "outputs": [
    {
     "name": "stdout",
     "output_type": "stream",
     "text": [
      "6\n"
     ]
    }
   ],
   "source": [
    "# TODO\n",
    "print(data_astro['number'])"
   ]
  },
  {
   "cell_type": "markdown",
   "metadata": {},
   "source": [
    "* Print the names of all astronauts "
   ]
  },
  {
   "cell_type": "code",
   "execution_count": 21,
   "metadata": {
    "collapsed": true
   },
   "outputs": [
    {
     "name": "stdout",
     "output_type": "stream",
     "text": [
      "Oleg Kononenko\n",
      "David Saint-Jacques\n",
      "Anne McClain\n",
      "Alexey Ovchinin\n",
      "Nick Hague\n",
      "Christina Koch\n"
     ]
    }
   ],
   "source": [
    "# TODO\n",
    "for k in data_astro['people']:\n",
    "    print(k['name'])"
   ]
  },
  {
   "cell_type": "markdown",
   "metadata": {},
   "source": [
    "* A lot of Web APIs require a api-key for interacting with them (like Twitter, Facebook, …). You find at http://www.python-requests.org/en/latest/user/authentication/ more information for Authentication for Web APIs with the request package\n",
    "* There are also special Python packages for interacting with services. E.g. for Twitter: http://www.tweepy.org/ or  https://github.com/bear/python-twitter \n",
    "\n",
    "See e.g. http://socialmedia-class.org/twittertutorial.html for a tutorial"
   ]
  },
  {
   "cell_type": "markdown",
   "metadata": {},
   "source": [
    "## 2. Creating a Web API\n",
    "\n",
    "* Create a folder `webapi` and change into it.\n",
    "* Create in the `webapi` folder a file with the name `Dockerfile` with the following content:\n",
    "\n",
    "----\n",
    "```bash\n",
    "# Use an official Python runtime as a parent image\n",
    "FROM python:3.7-slim\n",
    "\n",
    "# Set the working directory to /app\n",
    "WORKDIR /app\n",
    "\n",
    "# Copy the current directory contents into the container at /app\n",
    "COPY app/ /app\n",
    "\n",
    "# Install any needed packages specified in requirements.txt\n",
    "RUN pip install --trusted-host pypi.python.org -r requirements.txt\n",
    "\n",
    "# Make port 80 available to the world outside this container\n",
    "EXPOSE 80\n",
    "\n",
    "# Run app.py when the container launches\n",
    "CMD [\"python\", \"app.py\"]\n",
    "```\n",
    "\n",
    "-----\n",
    "\n",
    "* We can also use Docker compose with just one service. Create in your `webapi` folder a `docker-compose.yml` file:\n",
    "\n",
    "-----\n",
    "\n",
    "```yaml\n",
    "version: '3'\n",
    "services:\n",
    "  api:\n",
    "    build: .\n",
    "    ports:\n",
    "      - \"5000:80\"\n",
    "    restart: always\n",
    "    volumes:\n",
    "      - ./app:/app\n",
    "```\n",
    "-----\n",
    "\n",
    "* Create a folder in the `webapi` folder a new folder with the name `app`\n",
    "* We will build a web API with `Flask` (http://flask.pocoo.org/) . Create a `requirements.txt` file in the `app` folder. Here we can specify all python `pip` packages that we need:\n",
    "\n",
    "-----\n",
    "```bash\n",
    "Flask\n",
    "```\n",
    "-----\n",
    "\n",
    "* Create the `app.py` file in the `app` folder:\n",
    "\n",
    "-----\n",
    "```python\n",
    "from flask import Flask\n",
    "from flask import request, jsonify\n",
    "\n",
    "app = Flask(__name__)\n",
    "\n",
    "courses = [\n",
    "    {'id': 0,\n",
    "     'title': 'Data Science',\n",
    "     'professor': 'Markus Löcher',\n",
    "     'semester': '1'},\n",
    "    {'id': 1,\n",
    "     'title': 'Data Warehousing',\n",
    "     'professor': 'Roland M. Mueller',\n",
    "     'semester': '1'},\n",
    "    {'id': 2,\n",
    "     'title': 'Business Process Management',\n",
    "     'professor': 'Frank Habermann',\n",
    "     'semester': '1'},\n",
    "    {'id': 3,\n",
    "     'title': 'Stratigic Issues of IT',\n",
    "     'professor': 'Sven Pohland',\n",
    "     'semester': '1'},\n",
    "    {'id': 4,\n",
    "     'title': 'Text, Web and Social Media Analytics Lab',\n",
    "     'professor': 'Markus Löcher',\n",
    "     'semester': '2'},\n",
    "    {'id': 5,\n",
    "     'title': 'Enterprise Architectures for Big Data',\n",
    "     'professor': 'Roland M. Mueller',\n",
    "     'semester': '2'},\n",
    "    {'id': 6,\n",
    "     'title': 'Business Process Integration Lab',\n",
    "     'professor': 'Frank Habermann',\n",
    "     'semester': '2'},\n",
    "    {'id': 7,\n",
    "     'title': 'IT-Security and Privacy',\n",
    "     'professor': 'Dennis Uckel',\n",
    "     'semester': '2'},\n",
    "    {'id': 8,\n",
    "     'title': 'Research Methods',\n",
    "     'professor': 'Marcus Birkenkrahe',\n",
    "     'semester': '2'},\n",
    "]\n",
    "\n",
    "@app.route('/api/v1/courses/all', methods=['GET'])\n",
    "def api_all():\n",
    "    return jsonify(courses)\n",
    "\n",
    "@app.route('/api/v1/courses', methods=['GET'])\n",
    "def api_id():\n",
    "    # Check if an ID was provided as part of the URL.\n",
    "    # If ID is provided, assign it to a variable.\n",
    "    # If no ID is provided, display an error in the browser.\n",
    "    if 'id' in request.args:\n",
    "        id = int(request.args['id'])\n",
    "    else:\n",
    "        return \"Error: No id field provided. Please specify an id.\"\n",
    "\n",
    "    # Create an empty list for our results\n",
    "    results = []\n",
    "\n",
    "    # Loop through the data and match results that fit the requested ID.\n",
    "    # IDs are unique, but other fields might return many results\n",
    "    for course in courses:\n",
    "        if course['id'] == id:\n",
    "            results.append(course)\n",
    "\n",
    "    # Use the jsonify function from Flask to convert our list of\n",
    "    # Python dictionaries to the JSON format.\n",
    "    return jsonify(results)\n",
    "\n",
    "if __name__ == \"__main__\":\n",
    "    app.run(host=\"0.0.0.0\", port=80, debug=True)\n",
    "```\n",
    "-----\n",
    "* Open http://localhost:5000/api/v1/courses/all in a browser\n",
    "* Open http://localhost:5000/api/v1/courses?id=5 in a browser\n"
   ]
  },
  {
   "cell_type": "markdown",
   "metadata": {},
   "source": [
    "* Use your own API here in the Jupyter Notebook with Python and print all names of all courses "
   ]
  },
  {
   "cell_type": "code",
   "execution_count": 23,
   "metadata": {
    "collapsed": true
   },
   "outputs": [],
   "source": [
    "# TODO\n",
    "response_course = requests.get(\"http://localhost:5000/api/v1/courses/all\")\n",
    "data_course = json.loads(response_course.text)"
   ]
  },
  {
   "cell_type": "code",
   "execution_count": 25,
   "metadata": {},
   "outputs": [
    {
     "name": "stdout",
     "output_type": "stream",
     "text": [
      "Data Science\n",
      "Data Warehousing\n",
      "Business Process Management\n",
      "Stratigic Issues of IT\n",
      "Text, Web and Social Media Analytics Lab\n",
      "Enterprise Architectures for Big Data\n",
      "Business Process Integration Lab\n",
      "IT-Security and Privacy\n",
      "Research Methods\n"
     ]
    }
   ],
   "source": [
    "for k in data_course:\n",
    "    print(k['title'])"
   ]
  },
  {
   "cell_type": "markdown",
   "metadata": {},
   "source": [
    "* Add the possibility to find courses based on the semester\n",
    "* Use your API in Python and print all names of all courses in the second semester"
   ]
  },
  {
   "cell_type": "code",
   "execution_count": 29,
   "metadata": {
    "collapsed": true
   },
   "outputs": [],
   "source": [
    "# TODO\n",
    "response_secondsem = requests.get(\"http://localhost:5000/api/v1/courses/semester?semester=2\")\n",
    "data_secsem = json.loads(response_secondsem.text)"
   ]
  },
  {
   "cell_type": "code",
   "execution_count": 30,
   "metadata": {},
   "outputs": [
    {
     "name": "stdout",
     "output_type": "stream",
     "text": [
      "Text, Web and Social Media Analytics Lab\n",
      "Enterprise Architectures for Big Data\n",
      "Business Process Integration Lab\n",
      "IT-Security and Privacy\n",
      "Research Methods\n"
     ]
    }
   ],
   "source": [
    "for k in data_secsem:\n",
    "    print(k['title'])"
   ]
  },
  {
   "cell_type": "markdown",
   "metadata": {},
   "source": [
    "* Add a function that can convert Fahrenheit to Celsius \n",
    "* Call your API and get the Celsius value for 100°F Fahrenheit"
   ]
  },
  {
   "cell_type": "code",
   "execution_count": 33,
   "metadata": {
    "collapsed": true
   },
   "outputs": [
    {
     "name": "stdout",
     "output_type": "stream",
     "text": [
      "100.0 degrees Fahrenheit are 37.77777777777778 degrees Celsius.\n"
     ]
    }
   ],
   "source": [
    "# TODO\n",
    "response_converter = requests.get
('http://localhost:5000/api/v1/converter?fahrenheit=100')\n",
    "data_converter = json.loads(response_converter.text)\n",
    "print(data_converter)"
   ]
  }
 ],
 "metadata": {
  "kernelspec": {
   "display_name": "Python 3",
   "language": "python",
   "name": "python3"
  },
  "language_info": {
   "codemirror_mode": {
    "name": "ipython",
    "version": 3
   },
   "file_extension": ".py",
   "mimetype": "text/x-python",
   "name": "python",
   "nbconvert_exporter": "python",
   "pygments_lexer": "ipython3",
   "version": "3.7.0"
  },
  "varInspector": {
   "cols": {
    "lenName": 16,
    "lenType": 16,
    "lenVar": 40
   },
   "kernels_config": {
    "python": {
     "delete_cmd_postfix": "",
     "delete_cmd_prefix": "del ",
     "library": "var_list.py",
     "varRefreshCmd": "print(var_dic_list())"
    },
    "r": {
     "delete_cmd_postfix": ") ",
     "delete_cmd_prefix": "rm(",
     "library": "var_list.r",
     "varRefreshCmd": "cat(var_dic_list()) "
    }
   },
   "types_to_exclude": [
    "module",
    "function",
    "builtin_function_or_method",
    "instance",
    "_Feature"
   ],
   "window_display": false
  }
 },
 "nbformat": 4,
 "nbformat_minor": 2
}
